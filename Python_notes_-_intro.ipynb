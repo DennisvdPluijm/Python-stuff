{
 "cells": [
  {
   "cell_type": "markdown",
   "metadata": {},
   "source": [
    "# Notes from career track 'Data Scientist with Python'"
   ]
  },
  {
   "cell_type": "code",
   "execution_count": 32,
   "metadata": {},
   "outputs": [],
   "source": [
    "# all imports\n",
    "import matplotlib.pyplot as plt\n",
    "%matplotlib inline\n",
    "import pandas as pd\n",
    "import numpy as np"
   ]
  },
  {
   "cell_type": "markdown",
   "metadata": {},
   "source": [
    "## Basic stuff"
   ]
  },
  {
   "cell_type": "markdown",
   "metadata": {},
   "source": [
    "use `str` to convert numerical variables (int/float) into a string."
   ]
  },
  {
   "cell_type": "code",
   "execution_count": 1,
   "metadata": {},
   "outputs": [
    {
     "name": "stdout",
     "output_type": "stream",
     "text": [
      "I started with $100 and now have $194.87171000000012. Awesome!\n"
     ]
    }
   ],
   "source": [
    "savings = 100\n",
    "result = 100 * 1.10 ** 7\n",
    "print(\"I started with $\" + str(savings) + \" and now have $\" + str(result) + \". Awesome!\")"
   ]
  },
  {
   "cell_type": "markdown",
   "metadata": {},
   "source": [
    "Careful when copying lists: Python copies the __reference__ to the elements of the list:"
   ]
  },
  {
   "cell_type": "code",
   "execution_count": 2,
   "metadata": {},
   "outputs": [
    {
     "name": "stdout",
     "output_type": "stream",
     "text": [
      "[1, 'changed', 3]\n"
     ]
    }
   ],
   "source": [
    "x = [1, 2, 3]\n",
    "y = x\n",
    "y[1] = \"changed\"\n",
    "print(x)"
   ]
  },
  {
   "cell_type": "markdown",
   "metadata": {},
   "source": [
    "Instead, use `copy`:"
   ]
  },
  {
   "cell_type": "code",
   "execution_count": 3,
   "metadata": {},
   "outputs": [
    {
     "name": "stdout",
     "output_type": "stream",
     "text": [
      "[1, 2, 3]\n"
     ]
    }
   ],
   "source": [
    "x = [1, 2, 3]\n",
    "y = x.copy() #for simple lists, y=list(x) or y=x[:] also works\n",
    "y[1] = \"changed\"\n",
    "print(x)"
   ]
  },
  {
   "cell_type": "markdown",
   "metadata": {},
   "source": [
    "Remove elements with `del()`"
   ]
  },
  {
   "cell_type": "code",
   "execution_count": 8,
   "metadata": {},
   "outputs": [
    {
     "name": "stdout",
     "output_type": "stream",
     "text": [
      "[1, 2, 3, 1, 2, 3]\n",
      "[1, 2, 3, 3]\n"
     ]
    }
   ],
   "source": [
    "x = [1, 2, 3]\n",
    "x = x*2\n",
    "print(x)\n",
    "del(x[-3:-1]) #removes only element -3 and -2!\n",
    "print(x)"
   ]
  },
  {
   "cell_type": "markdown",
   "metadata": {},
   "source": [
    "A method is: a function that can be applied to an object type, e.g. `str-object.method`.\n",
    "Use `help(function)` to see the methods that can be used for an object, e.g. for strings:"
   ]
  },
  {
   "cell_type": "code",
   "execution_count": 1,
   "metadata": {},
   "outputs": [],
   "source": [
    "#help(str)"
   ]
  },
  {
   "cell_type": "markdown",
   "metadata": {},
   "source": [
    "## Boolean operators"
   ]
  },
  {
   "cell_type": "code",
   "execution_count": null,
   "metadata": {},
   "outputs": [],
   "source": [
    "not(not(x < 3) and not(y > 14 or y > 10))  #Notice that not has a higher priority than and and or, it is executed first."
   ]
  },
  {
   "cell_type": "markdown",
   "metadata": {
    "toc-hr-collapsed": true
   },
   "source": [
    "## Visualization"
   ]
  },
  {
   "cell_type": "markdown",
   "metadata": {
    "toc-hr-collapsed": true
   },
   "source": [
    "### Line and scatter plot"
   ]
  },
  {
   "cell_type": "code",
   "execution_count": 2,
   "metadata": {},
   "outputs": [
    {
     "data": {
      "image/png": "[encoded data removed]",
      "text/plain": [
       "<Figure size 432x288 with 1 Axes>"
      ]
     },
     "metadata": {
      "needs_background": "light"
     },
     "output_type": "display_data"
    }
   ],
   "source": [
    "year = range(1950, 2101)\n",
    "pop = [2.53, 2.57, 2.62, 2.67, 2.71, 2.76, 2.81, 2.86, 2.92, 2.97, 3.03, 3.08, 3.14, 3.2, 3.26, 3.33, 3.4, 3.47, 3.54,\n",
    "      3.62, 3.69, 3.77, 3.84, 3.92, 4.0, 4.07, 4.15, 4.22, 4.3, 4.37, 4.45, 4.53, 4.61, 4.69, 4.78, 4.86, 4.95,\n",
    "      5.05, 5.14, 5.23, 5.32, 5.41, 5.49, 5.58, 5.66, 5.74, 5.82, 5.9, 5.98, 6.05, 6.13, 6.2, 6.28, 6.36, 6.44,\n",
    "      6.51, 6.59, 6.67, 6.75, 6.83, 6.92, 7.0, 7.08, 7.16, 7.24, 7.32, 7.4, 7.48, 7.56, 7.64, 7.72, 7.79, 7.87, \n",
    "      7.94, 8.01, 8.08, 8.15, 8.22, 8.29, 8.36, 8.42, 8.49, 8.56, 8.62, 8.68, 8.74, 8.8, 8.86, 8.92, 8.98, 9.04, \n",
    "      9.09, 9.15, 9.2, 9.26, 9.31, 9.36, 9.41, 9.46, 9.5, 9.55, 9.6, 9.64, 9.68, 9.73, 9.77, 9.81, 9.85, 9.88, \n",
    "      9.92, 9.96, 9.99, 10.03, 10.06, 10.09, 10.13, 10.16, 10.19, 10.22, 10.25, 10.28, 10.31, 10.33, 10.36, \n",
    "       10.38, 10.41, 10.43, 10.46, 10.48, 10.5, 10.52, 10.55, 10.57, 10.59, 10.61, 10.63, 10.65, 10.66, 10.68, \n",
    "      10.7, 10.72, 10.73, 10.75, 10.77, 10.78, 10.79, 10.81, 10.82, 10.83, 10.84, 10.85]\n",
    "\n",
    "year = [1800, 1850, 1900] + list(year) #force to list, since year was 'range'\n",
    "pop = [1.0, 1.262, 1.650] + pop\n",
    "\n",
    "plt.plot(year, pop)\n",
    "plt.xlabel('Year')\n",
    "plt.ylabel('Population')\n",
    "plt.title('World Population Projections')\n",
    "plt.yticks([0, 2, 4, 6, 8, 10],\n",
    "          ['0','2B', '4B','6B','8B','10B'])\n",
    "\n",
    "plt.show()"
   ]
  },
  {
   "cell_type": "code",
   "execution_count": 16,
   "metadata": {},
   "outputs": [
    {
     "data": {
      "image/png": "[encoded data removed]",
      "text/plain": [
       "<Figure size 432x288 with 1 Axes>"
      ]
     },
     "metadata": {
      "needs_background": "light"
     },
     "output_type": "display_data"
    }
   ],
   "source": [
    "#or: directly using Pandas\n",
    "#worldpop = {'height': heights, 'sex': 'M'}\n",
    "worldpop_df = pd.DataFrame({'Year': year,'Population': pop})\n",
    "worldpop_df.index = worldpop_df['Year']\n",
    "worldpop_df['Population'].plot()\n",
    "plt.show()"
   ]
  },
  {
   "cell_type": "code",
   "execution_count": 33,
   "metadata": {},
   "outputs": [],
   "source": [
    "# data for Hans Rosling bubble chart 'gapminder'\n",
    "gapminder = pd.read_csv(\"data/gapminder.csv\", index_col = 0, sep = ',')\n",
    "\n",
    "#print(gapminder.head())\n",
    "\n",
    "#make a list from a pandas Series\n",
    "#gdp_cap = list(gapminder.gdp_cap)\n",
    "\n",
    "#define size of points for each country\n",
    "pop_size = np.array(gapminder.population) / 1000000 * 2\n",
    "#map colors to continent of country\n",
    "col_dict = {\n",
    "    'Asia':'red',\n",
    "    'Europe':'green',\n",
    "    'Africa':'blue',\n",
    "    'Americas':'yellow',\n",
    "    'Oceania':'black'\n",
    "    }\n",
    "gapminder['cont_col'] = gapminder.cont.map(col_dict)"
   ]
  },
  {
   "cell_type": "code",
   "execution_count": 34,
   "metadata": {},
   "outputs": [
    {
     "data": {
      "image/png": "[encoded data removed]",
      "text/plain": [
       "<Figure size 432x288 with 1 Axes>"
      ]
     },
     "metadata": {
      "needs_background": "light"
     },
     "output_type": "display_data"
    }
   ],
   "source": [
    "#pip3 install plotly_express\n",
    "#import plotly_express as px\n",
    "\n",
    "#px.scatter(px.data.gapminder(), x=\"gdpPercap\", y=\"lifeExp\", animation_frame=\"year\", animation_group=\"country\",\n",
    "#           size=\"pop\", color=\"country\", hover_name=\"country\", \n",
    "#           log_x = True, \n",
    "#           size_max=45, range_x=[100,100000], range_y=[25,90])\n",
    "#gdp_cap = px.data.gapminderp[\"gdpPercap\"]\n",
    "\n",
    "# Scatter plot with dynamic size and color\n",
    "plt.scatter(x = gapminder.gdp_cap, y = gapminder.life_exp, s = pop_size, c = gapminder.cont_col, alpha = 0.8)\n",
    "\n",
    "# Put the x-axis on a logarithmic scale and other customizations\n",
    "plt.xscale('log')\n",
    "plt.xlabel('GDP per Capita [in USD]')\n",
    "plt.ylabel('Life Expectancy [in years]')\n",
    "plt.title('World Development in 2007')\n",
    "plt.xticks([1000,10000,100000], ['1k','10k','100k'])\n",
    "\n",
    "# Additional customizations\n",
    "plt.text(1550, 71, 'India')\n",
    "plt.text(5700, 80, 'China')\n",
    "\n",
    "# Add grid() call\n",
    "plt.grid(True)\n",
    "\n",
    "# Show plot\n",
    "plt.show()"
   ]
  },
  {
   "cell_type": "markdown",
   "metadata": {},
   "source": [
    "### Histogram"
   ]
  },
  {
   "cell_type": "code",
   "execution_count": null,
   "metadata": {},
   "outputs": [],
   "source": [
    "plt.hist(life_exp, bins=5)\n",
    "plt.show()\n",
    "plt.clf()\n",
    "\n",
    "plt.hist(life_exp, bins=20)\n",
    "plt.show()"
   ]
  },
  {
   "cell_type": "markdown",
   "metadata": {},
   "source": [
    "### Ideas\n",
    "https://towardsdatascience.com/pythons-one-liner-graph-creation-library-with-animations-hans-rosling-style-f2cb50490396"
   ]
  },
  {
   "cell_type": "markdown",
   "metadata": {},
   "source": [
    "## Dictionaries"
   ]
  },
  {
   "cell_type": "code",
   "execution_count": 6,
   "metadata": {},
   "outputs": [
    {
     "name": "stdout",
     "output_type": "stream",
     "text": [
      "Lookup using two lists:  2.77\n",
      "Lookup using a dictionary:  2.77\n",
      "dict_keys(['afghanistan', 'albania', 'algeria'])\n"
     ]
    }
   ],
   "source": [
    "pop = [30.55, 2.77, 39.21]\n",
    "countries = [\"afghanistan\",\"albania\",\"algeria\"]\n",
    "#instead of:\n",
    "print(\"Lookup using two lists: \",pop[countries.index(\"albania\")])\n",
    "#use a dictionary, with key-value pairs\n",
    "world = {\"afghanistan\":30.55,\n",
    "        \"albania\":2.77,\n",
    "        \"algeria\":39.21}\n",
    "#keys have to be unique and immutable objects (cannot be changed after creation, i.e. no lists in a dictionary)\n",
    "\n",
    "print(\"Lookup using a dictionary: \",world[\"albania\"])\n",
    "print(world.keys())"
   ]
  },
  {
   "cell_type": "code",
   "execution_count": 7,
   "metadata": {},
   "outputs": [
    {
     "data": {
      "text/plain": [
       "True"
      ]
     },
     "execution_count": 7,
     "metadata": {},
     "output_type": "execute_result"
    }
   ],
   "source": [
    "#append dict:\n",
    "world['sealand'] = 0.000027\n",
    "'sealand' in world"
   ]
  },
  {
   "cell_type": "code",
   "execution_count": 8,
   "metadata": {},
   "outputs": [
    {
     "data": {
      "text/plain": [
       "False"
      ]
     },
     "execution_count": 8,
     "metadata": {},
     "output_type": "execute_result"
    }
   ],
   "source": [
    "#delete key-value\n",
    "del(world['sealand'])\n",
    "'sealand' in world"
   ]
  },
  {
   "cell_type": "code",
   "execution_count": 9,
   "metadata": {},
   "outputs": [
    {
     "data": {
      "text/plain": [
       "{'afghanistan': 30.55,\n",
       " 'albania': 2.77,\n",
       " 'algeria': 39.21,\n",
       " 'italy': {'capital': 'rome', 'population': 59.83}}"
      ]
     },
     "execution_count": 9,
     "metadata": {},
     "output_type": "execute_result"
    }
   ],
   "source": [
    "data = {'capital':'rome', 'population':59.83}\n",
    "world['italy'] = data\n",
    "world"
   ]
  },
  {
   "cell_type": "markdown",
   "metadata": {},
   "source": [
    "## Numpy"
   ]
  },
  {
   "cell_type": "code",
   "execution_count": 16,
   "metadata": {},
   "outputs": [
    {
     "name": "stdout",
     "output_type": "stream",
     "text": [
      "[False  True False False False]\n",
      "[21.8 21.7 21.4]\n"
     ]
    }
   ],
   "source": [
    "#logical operations on numpy arrays:\n",
    "bmi = np.array([21.8, 20.9, 21.7, 24.7, 21.4])\n",
    "\n",
    "print(bmi < 21) #single comparison operator works with np.arrays\n",
    "\n",
    "np.logical_and(bmi > 21, bmi < 22) #for element wise boolean operators, use logical_and / _or / _not\n",
    "\n",
    "print(bmi[np.logical_and(bmi > 21, bmi < 22)])"
   ]
  },
  {
   "cell_type": "markdown",
   "metadata": {
    "toc-hr-collapsed": true
   },
   "source": [
    "## Pandas dataframes\n",
    "\n",
    "Difference with 2D Numpy arrays: can hold different data types. Have unique row labels and column labels.\n",
    "Built on top of Numpy, and is defined similar to a dictionary: keys (columns labels) and values (data, column, by column)."
   ]
  },
  {
   "cell_type": "code",
   "execution_count": 3,
   "metadata": {},
   "outputs": [
    {
     "name": "stdout",
     "output_type": "stream",
     "text": [
      "         country    capital    area  population\n",
      "BR        Brazil   Brasilia   8.516      200.40\n",
      "RU        Russia     Moscow  17.100      143.50\n",
      "IN         India  New Delhi   3.286     1252.00\n",
      "CH         China    Beijing   9.597     1357.00\n",
      "SA  South Africa   Pretoria   1.221       52.98\n"
     ]
    },
    {
     "data": {
      "text/html": [
       "<div>\n",
       "<style scoped>\n",
       "    .dataframe tbody tr th:only-of-type {\n",
       "        vertical-align: middle;\n",
       "    }\n",
       "\n",
       "    .dataframe tbody tr th {\n",
       "        vertical-align: top;\n",
       "    }\n",
       "\n",
       "    .dataframe thead th {\n",
       "        text-align: right;\n",
       "    }\n",
       "</style>\n",
       "<table border=\"1\" class=\"dataframe\">\n",
       "  <thead>\n",
       "    <tr style=\"text-align: right;\">\n",
       "      <th></th>\n",
       "      <th>country</th>\n",
       "      <th>capital</th>\n",
       "    </tr>\n",
       "  </thead>\n",
       "  <tbody>\n",
       "    <tr>\n",
       "      <th>RU</th>\n",
       "      <td>Russia</td>\n",
       "      <td>Moscow</td>\n",
       "    </tr>\n",
       "    <tr>\n",
       "      <th>IN</th>\n",
       "      <td>India</td>\n",
       "      <td>New Delhi</td>\n",
       "    </tr>\n",
       "    <tr>\n",
       "      <th>CH</th>\n",
       "      <td>China</td>\n",
       "      <td>Beijing</td>\n",
       "    </tr>\n",
       "  </tbody>\n",
       "</table>\n",
       "</div>"
      ],
      "text/plain": [
       "   country    capital\n",
       "RU  Russia     Moscow\n",
       "IN   India  New Delhi\n",
       "CH   China    Beijing"
      ]
     },
     "execution_count": 3,
     "metadata": {},
     "output_type": "execute_result"
    }
   ],
   "source": [
    "#example import from csv:\n",
    "brics = pd.read_csv(\"data/brics.csv\", index_col = 0, sep = ';', decimal = b',')\n",
    "print(brics)\n",
    "\n",
    "#access columns with double brackets\n",
    "brics[['country', 'capital']]\n",
    "#rows:\n",
    "brics[1:4] #also 0-indexing and excluding [stop]!\n",
    "\n",
    "#loc (label-based), iloc (position-based)\n",
    "brics.loc[[\"RU\", \"IN\", \"CH\"],[\"country\", \"capital\"]] #and ':' for all rows/columns\n",
    "brics.iloc[[1,2,3],[0,1]]\n",
    "\n",
    "# Print out drives_right column as Series\n",
    "#print(cars.loc[:, 'drives_right'])\n",
    "# Print out drives_right column as DataFrame\n",
    "#print(cars.loc[:, ['drives_right']])\n",
    "\n",
    "#mix loc and iloc with ix"
   ]
  },
  {
   "cell_type": "markdown",
   "metadata": {
    "toc-hr-collapsed": true
   },
   "source": [
    "### more on Pandas DataFrames"
   ]
  },
  {
   "cell_type": "code",
   "execution_count": 3,
   "metadata": {},
   "outputs": [
    {
     "name": "stdout",
     "output_type": "stream",
     "text": [
      "Column names of brics:  Index(['country', 'capital', 'area', 'population'], dtype='object')\n",
      "\n",
      "Some info on brics DataFrame:\n",
      "<class 'pandas.core.frame.DataFrame'>\n",
      "Index: 5 entries, BR to SA\n",
      "Data columns (total 4 columns):\n",
      "country       5 non-null object\n",
      "capital       5 non-null object\n",
      "area          5 non-null float64\n",
      "population    5 non-null float64\n",
      "dtypes: float64(2), object(2)\n",
      "memory usage: 360.0+ bytes\n",
      "None\n"
     ]
    }
   ],
   "source": [
    "print(\"Column names of brics: \", str(brics.columns))\n",
    "print()\n",
    "\n",
    "#AAPL.index\n",
    "#type(AAPL.index) #in this case a special Datetimeindex\n",
    "\n",
    "brics.head(2) #similar as brics.iloc[:2,:]\n",
    "#.tail()\n",
    "\n",
    "print(\"Some info on brics DataFrame:\")\n",
    "print(brics.info())"
   ]
  },
  {
   "cell_type": "code",
   "execution_count": 5,
   "metadata": {},
   "outputs": [
    {
     "name": "stdout",
     "output_type": "stream",
     "text": [
      "         country    capital    area  population\n",
      "BR        Brazil   Brasilia   8.516         NaN\n",
      "RU        Russia     Moscow  17.100      143.50\n",
      "IN         India  New Delhi   3.286     1252.00\n",
      "CH         China    Beijing   9.597     1357.00\n",
      "SA  South Africa   Pretoria   1.221       52.98\n",
      "\n",
      "BR        NaN\n",
      "RU     143.50\n",
      "IN    1252.00\n",
      "CH    1357.00\n",
      "SA      52.98\n",
      "Name: population, dtype: float64\n",
      "\n",
      "<class 'numpy.ndarray'>\n"
     ]
    }
   ],
   "source": [
    "#broadcasting\n",
    "brics.iloc[::5, -1] = np.nan  #assign each 5th row a NaN value\n",
    "print(brics.head())\n",
    "print()\n",
    "\n",
    "#Series\n",
    "pop = brics['population']  #gives a Pandas Series, retaining indexes\n",
    "print(pop.head())  #or .tail()\n",
    "print()\n",
    "\n",
    "pops = pop.values\n",
    "print(type(pops)) #gives a Numpy array"
   ]
  },
  {
   "cell_type": "markdown",
   "metadata": {},
   "source": [
    "#### Pandas DF from a dict"
   ]
  },
  {
   "cell_type": "code",
   "execution_count": 8,
   "metadata": {},
   "outputs": [
    {
     "name": "stdout",
     "output_type": "stream",
     "text": [
      "[('city', ['Austin', 'Dallas', 'Austin', 'Dallas']), ('signups', [7, 12, 3, 5]), ('visitors', [139, 237, 326, 456]), ('weekday', ['Sun', 'Sun', 'Mon', 'Mon'])]\n",
      "\n",
      "     city  signups  visitors weekday\n",
      "0  Austin        7       139     Sun\n",
      "1  Dallas       12       237     Sun\n",
      "2  Austin        3       326     Mon\n",
      "3  Dallas        5       456     Mon\n",
      "\n",
      "     city  signups  visitors weekday  fees\n",
      "0  Austin        7       139     Sun     0\n",
      "1  Dallas       12       237     Sun     0\n",
      "2  Austin        3       326     Mon     0\n",
      "3  Dallas        5       456     Mon     0\n"
     ]
    }
   ],
   "source": [
    "# create a DF from dict (list of lists): e.g. users = pd.DataFrame(data)\n",
    "# or, using zip()\n",
    "cities = ['Austin', 'Dallas', 'Austin', 'Dallas']\n",
    "signups = [7, 12, 3, 5]\n",
    "visitors = [139, 237, 326, 456]\n",
    "weekdays = ['Sun', 'Sun','Mon','Mon']\n",
    "list_labels = ['city','signups','visitors','weekday'] #column labels\n",
    "list_cols = [cities, signups, visitors, weekdays] #column entries, list of lists\n",
    "zipped = list(zip(list_labels, list_cols))  #zip 2 lists together into one list of (key,value) tuples\n",
    "print(zipped)\n",
    "print()\n",
    "data = dict(zipped) \n",
    "users = pd.DataFrame(data)\n",
    "print(users)\n",
    "\n",
    "print()\n",
    "#broadcast:\n",
    "users['fees'] = 0 #broadcast scalar value 0 to entire (new) column\n",
    "print(users)"
   ]
  },
  {
   "cell_type": "code",
   "execution_count": 12,
   "metadata": {},
   "outputs": [
    {
     "name": "stdout",
     "output_type": "stream",
     "text": [
      "   height (in) Sex\n",
      "A           59   M\n",
      "B           65   M\n",
      "C           63   M\n",
      "D           65   M\n",
      "E           64   M\n",
      "F           66   M\n",
      "G           64   M\n"
     ]
    }
   ],
   "source": [
    "heights = [59, 65, 63, 65, 64, 66, 64]\n",
    "data = {'height': heights, 'sex': 'M'}  #broadcast upon creation of dict\n",
    "results = pd.DataFrame(data)\n",
    "results.columns = ['height (in)', 'Sex']\n",
    "results.index = ['A', 'B','C','D','E','F','G']\n",
    "print(results)"
   ]
  },
  {
   "cell_type": "markdown",
   "metadata": {},
   "source": [
    "### More on importing data"
   ]
  },
  {
   "cell_type": "raw",
   "metadata": {},
   "source": [
    "filepath = 'ISSN_D_tot.csv'\n",
    "this file has no headers, strange date format, and -1 for missing values\n",
    "col_names = ['year','month','day','dec_date','sunspots','definite']\n",
    "sunspots = pd.read_csv(filepath, \n",
    "                       header=None, #or =3 if header row is on 4th row\n",
    "                       names=col_names, \n",
    "                       na_values={'sunspots':[' -1']}, #or in this case simply na_values=' -1'\n",
    "                       parse_dates=[[0, 1, 2]],\n",
    "                       delimeter=' ',\n",
    "                       comment='#' #to exclude comments in file\n",
    "                      )\n",
    "                      \n",
    "                      #for time series you often use\n",
    "                      index_col='date', parse_dates=True\n",
    "\n",
    "#specify meaningful index\n",
    "sunspots.index = sunspots['year_month_day']\n",
    "sunspots.index.name = 'date'\n",
    "\n",
    "#trim redundant columns\n",
    "cols = ['sunspots','definite']\n",
    "sunspots = sunspots[cols]\n",
    "\n",
    "sunspots.info()"
   ]
  },
  {
   "cell_type": "raw",
   "metadata": {},
   "source": [
    "Writing csv files:\n",
    "out_csv = 'sunspots.csv'\n",
    "sunspots.to_csv(out_csv)\n",
    "#sunspots.to_csv(out_tsv, sep='\\t')\n",
    "out_xlsx = 'sunspots.xlsx'\n",
    "sunspots.to_excel(out_xlsx, index=False) #save without the index"
   ]
  },
  {
   "cell_type": "markdown",
   "metadata": {},
   "source": [
    "### using booleans in Pandas dataframes"
   ]
  },
  {
   "cell_type": "code",
   "execution_count": 4,
   "metadata": {},
   "outputs": [
    {
     "name": "stdout",
     "output_type": "stream",
     "text": [
      "BR     True\n",
      "RU     True\n",
      "IN    False\n",
      "CH     True\n",
      "SA    False\n",
      "Name: area, dtype: bool\n",
      "   country   capital    area  population\n",
      "BR  Brazil  Brasilia   8.516       200.4\n",
      "RU  Russia    Moscow  17.100       143.5\n",
      "CH   China   Beijing   9.597      1357.0\n"
     ]
    },
    {
     "data": {
      "text/html": [
       "<div>\n",
       "<style scoped>\n",
       "    .dataframe tbody tr th:only-of-type {\n",
       "        vertical-align: middle;\n",
       "    }\n",
       "\n",
       "    .dataframe tbody tr th {\n",
       "        vertical-align: top;\n",
       "    }\n",
       "\n",
       "    .dataframe thead th {\n",
       "        text-align: right;\n",
       "    }\n",
       "</style>\n",
       "<table border=\"1\" class=\"dataframe\">\n",
       "  <thead>\n",
       "    <tr style=\"text-align: right;\">\n",
       "      <th></th>\n",
       "      <th>country</th>\n",
       "      <th>capital</th>\n",
       "      <th>area</th>\n",
       "      <th>population</th>\n",
       "    </tr>\n",
       "  </thead>\n",
       "  <tbody>\n",
       "    <tr>\n",
       "      <th>BR</th>\n",
       "      <td>Brazil</td>\n",
       "      <td>Brasilia</td>\n",
       "      <td>8.516</td>\n",
       "      <td>200.4</td>\n",
       "    </tr>\n",
       "    <tr>\n",
       "      <th>CH</th>\n",
       "      <td>China</td>\n",
       "      <td>Beijing</td>\n",
       "      <td>9.597</td>\n",
       "      <td>1357.0</td>\n",
       "    </tr>\n",
       "  </tbody>\n",
       "</table>\n",
       "</div>"
      ],
      "text/plain": [
       "   country   capital   area  population\n",
       "BR  Brazil  Brasilia  8.516       200.4\n",
       "CH   China   Beijing  9.597      1357.0"
      ]
     },
     "execution_count": 4,
     "metadata": {},
     "output_type": "execute_result"
    }
   ],
   "source": [
    "#need Pandas Series for comparison! Single []\n",
    "print(brics[\"area\"] > 8) #or: brics.loc[:, \"area\"] or brics.iloc[:,2]\n",
    "\n",
    "print(brics[brics[\"area\"] > 8])\n",
    "#for column with boolean values, simply use e.g. brics[brics['drives_right']]\n",
    "\n",
    "area = brics[\"area\"]\n",
    "brics[np.logical_and(area > 8, area < 10)]"
   ]
  },
  {
   "cell_type": "markdown",
   "metadata": {
    "toc-hr-collapsed": true
   },
   "source": [
    "## Loops"
   ]
  },
  {
   "cell_type": "code",
   "execution_count": 17,
   "metadata": {},
   "outputs": [
    {
     "name": "stdout",
     "output_type": "stream",
     "text": [
      "country 1: Brasilia\n",
      "country 2: Moscow\n",
      "country 3: New Delhi\n",
      "country 4: Beijing\n",
      "country 5: Pretoria\n",
      "\n",
      "the hallway is 11.25 sqm\n",
      "the kitchen is 18.0 sqm\n",
      "the living room is 20.0 sqm\n",
      "the bedroom is 10.75 sqm\n",
      "the bathroom is 9.5 sqm\n"
     ]
    }
   ],
   "source": [
    "#loop over a list\n",
    "for index, capital in enumerate(brics[\"capital\"]) :\n",
    "    print(\"country \" + str(index+1) + \": \" + capital)\n",
    "\n",
    "print()\n",
    "\n",
    "#example for list of lists\n",
    "house = [[\"hallway\", 11.25], \n",
    "         [\"kitchen\", 18.0], \n",
    "         [\"living room\", 20.0], \n",
    "         [\"bedroom\", 10.75], \n",
    "         [\"bathroom\", 9.50]]\n",
    "         \n",
    "for room, area in house :\n",
    "    print(\"the \" + room + \" is \" + str(area) + \" sqm\")"
   ]
  },
  {
   "cell_type": "markdown",
   "metadata": {},
   "source": [
    "### loops for dictionaries"
   ]
  },
  {
   "cell_type": "code",
   "execution_count": 18,
   "metadata": {},
   "outputs": [
    {
     "name": "stdout",
     "output_type": "stream",
     "text": [
      "afghanistan -- 30.55\n",
      "albania -- 2.77\n",
      "algeria -- 39.21\n"
     ]
    }
   ],
   "source": [
    "world = {\"afghanistan\":30.55,\n",
    "        \"albania\":2.77,\n",
    "        \"algeria\":39.21}\n",
    "\n",
    "#for dictionaries you need .items() method, result doesn't have to correspond with defined order,\n",
    "#because dictonaries are inherently unordered!\n",
    "#order of variables must be in key-value order!\n",
    "for cntry, pop in world.items() :\n",
    "    print(cntry + \" -- \" + str(pop))"
   ]
  },
  {
   "cell_type": "markdown",
   "metadata": {},
   "source": [
    "### loops for Numpy arrays"
   ]
  },
  {
   "cell_type": "code",
   "execution_count": 24,
   "metadata": {},
   "outputs": [
    {
     "name": "stdout",
     "output_type": "stream",
     "text": [
      "74\n",
      "74\n",
      "72\n",
      "75\n",
      "75\n",
      "73\n",
      "\n",
      "74,74,72,75,75,73,180,215,210,205,190,195,"
     ]
    }
   ],
   "source": [
    "np_height = np.array([74, 74, 72, 75, 75, 73])\n",
    "np_weight = np.array([180, 215, 210, 205, 190, 195])\n",
    "\n",
    "for h in np_height :\n",
    "    print(h)\n",
    "\n",
    "print()\n",
    "meas = np.array([np_height, np_weight])  #a 2D Numpy array, use nditer function!\n",
    "\n",
    "for val in np.nditer(meas) :\n",
    "    print(val, end=\",\")"
   ]
  },
  {
   "cell_type": "markdown",
   "metadata": {},
   "source": [
    "### loops for Pandas df"
   ]
  },
  {
   "cell_type": "code",
   "execution_count": 37,
   "metadata": {},
   "outputs": [
    {
     "name": "stdout",
     "output_type": "stream",
     "text": [
      "country\n",
      "capital\n",
      "area\n",
      "population\n",
      "name_length\n",
      "\n",
      "BR: Brasilia\n",
      "RU: Moscow\n",
      "IN: New Delhi\n",
      "CH: Beijing\n",
      "SA: Pretoria\n",
      "         country    capital    area  population  name_length\n",
      "BR        Brazil   Brasilia   8.516      200.40            6\n",
      "RU        Russia     Moscow  17.100      143.50            6\n",
      "IN         India  New Delhi   3.286     1252.00            5\n",
      "CH         China    Beijing   9.597     1357.00            5\n",
      "SA  South Africa   Pretoria   1.221       52.98           12\n",
      "         country    capital    area  population  name_length       COUNTRY\n",
      "BR        Brazil   Brasilia   8.516      200.40            6        BRAZIL\n",
      "RU        Russia     Moscow  17.100      143.50            6        RUSSIA\n",
      "IN         India  New Delhi   3.286     1252.00            5         INDIA\n",
      "CH         China    Beijing   9.597     1357.00            5         CHINA\n",
      "SA  South Africa   Pretoria   1.221       52.98           12  SOUTH AFRICA\n"
     ]
    }
   ],
   "source": [
    "#regular for loop gives only column labels\n",
    "for colname in brics :\n",
    "    print(colname)\n",
    "    \n",
    "print()\n",
    "\n",
    "#explicitly state to iterate over rows:\n",
    "for lab, row in brics.iterrows() :  #lab gives index label, row is a Pandas Series\n",
    "    print(lab + \": \" + row[\"capital\"])\n",
    "    \n",
    "for lab, row in brics.iterrows() :\n",
    "    brics.loc[lab, \"name_length\"] = len(row[\"country\"])  #however: creates a Series every iteration\n",
    "print(brics)\n",
    "\n",
    "#more efficient way with apply, first reset brics\n",
    "brics = brics.iloc[:,0:4]\n",
    "brics[\"name_length\"] = brics[\"country\"].apply(len)  #for functions\n",
    "brics[\"COUNTRY\"] = brics[\"country\"].apply(str.upper) #for methods\n",
    "print(brics)"
   ]
  },
  {
   "cell_type": "markdown",
   "metadata": {
    "toc-hr-collapsed": true
   },
   "source": [
    "## Hacker statistics: simulate random process\n",
    "\n",
    "### Random generators"
   ]
  },
  {
   "cell_type": "code",
   "execution_count": 10,
   "metadata": {},
   "outputs": [
    {
     "name": "stdout",
     "output_type": "stream",
     "text": [
      "Random number: 0.6964691855978616\n",
      "0\n",
      "heads\n"
     ]
    }
   ],
   "source": [
    "np.random.seed(123)\n",
    "print(\"Random number: \" + str(np.random.rand())) #pseudo-random numbers, for reproducibility\n",
    "coin = np.random.randint(0,2) #ranomly generate 0 or 1\n",
    "print(coin)\n",
    "if coin == 0 :\n",
    "    print(\"heads\")\n",
    "else :\n",
    "    print(\"tails\")\n",
    "    \n",
    "dice = np.random.randint(1, 7)"
   ]
  },
  {
   "cell_type": "markdown",
   "metadata": {},
   "source": [
    "### Random walk"
   ]
  },
  {
   "cell_type": "code",
   "execution_count": 6,
   "metadata": {},
   "outputs": [],
   "source": [
    "# Initialize all_walks (don't change this line)\n",
    "all_walks = []\n",
    "\n",
    "# Simulate random walk 500 times\n",
    "for i in range(500) :\n",
    "    \n",
    "    # Initialize random_walk\n",
    "    random_walk = [0] # list with first entry 0\n",
    "\n",
    "    # Complete the ___\n",
    "    for x in range(100) :\n",
    "        # Set step: last element in random_walk\n",
    "        step = random_walk[-1]\n",
    "\n",
    "        # Roll the dice\n",
    "        dice = np.random.randint(1,7)\n",
    "\n",
    "        # Determine next step\n",
    "        if dice <= 2:\n",
    "            step = max(0, step - 1)  #step can't go below 0\n",
    "        elif dice <= 5:\n",
    "            step = step + 1\n",
    "        else:\n",
    "            step = step + np.random.randint(1,7)\n",
    "        \n",
    "        # Implement clumsiness\n",
    "        if np.random.rand() <= 0.001 :\n",
    "            step = 0\n",
    "\n",
    "        # append next_step to random_walk\n",
    "        random_walk.append(step)\n",
    "    # Plot one random_walk\n",
    "    #plt.plot(random_walk)\n",
    "    # Show the plot\n",
    "    #plt.show()\n",
    "\n",
    "    # Append random_walk to all_walks: list of lists\n",
    "    all_walks.append(random_walk)\n",
    "        \n",
    "# Transform into Numpy array and transpose all_walks: \n",
    "# in np_aw_t every row represents position after 1 throw for the i random walks\n",
    "# without transposing Python doesn't interpret the Numpy array correctly\n",
    "np_aw_t = np.transpose(np.array(all_walks))\n",
    "\n",
    "# Select last row from np_aw_t: ends\n",
    "ends = np_aw_t[-1,:]"
   ]
  },
  {
   "cell_type": "markdown",
   "metadata": {},
   "source": [
    "### Distribution of random walks"
   ]
  },
  {
   "cell_type": "code",
   "execution_count": null,
   "metadata": {},
   "outputs": [],
   "source": [
    "# Plot np_aw_t and show all random walks\n",
    "plt.plot(np_aw_t)\n",
    "plt.show()\n",
    "\n",
    "plt.clf() #clear figure\n",
    "\n",
    "# Plot a histogram, showing the distribution of the end points of all random walks\n",
    "plt.hist(ends)\n",
    "plt.show()"
   ]
  },
  {
   "cell_type": "code",
   "execution_count": 14,
   "metadata": {},
   "outputs": [
    {
     "name": "stdout",
     "output_type": "stream",
     "text": [
      "0.784\n",
      "0.784\n"
     ]
    }
   ],
   "source": [
    "# calculate chance that you'll reach 60 steps high\n",
    "chance = np.count_nonzero(ends >= 60) / 500  #or in this case, use np.sum(end >= 60)\n",
    "print(chance)\n",
    "\n",
    "#alternative\n",
    "print(np.mean(ends >= 60))"
   ]
  },
  {
   "cell_type": "markdown",
   "metadata": {},
   "source": [
    "## EDA - (visual) exploratory data analysis\n",
    "\n",
    "For Pandas, use `.plot()` method with `subplots=True` to create subplots that are scaled independently."
   ]
  },
  {
   "cell_type": "raw",
   "metadata": {},
   "source": [
    "iris.head()\n",
    "iris.info() #type, non-null values, etc.\n",
    "iris.describe() #statistics\n",
    "iris.sample()\n",
    "\n",
    "iris.plot(kind='hist')\n",
    "iris.plt.hist()\n",
    "iris.hist()"
   ]
  },
  {
   "cell_type": "code",
   "execution_count": 1,
   "metadata": {},
   "outputs": [],
   "source": [
    "stocks = pd.read_csv(\"data/stocks.csv\", sep = ';', decimal = b',', header = 0)"
   ]
  },
  {
   "cell_type": "raw",
   "metadata": {},
   "source": [
    "print(stocks)\n",
    "print()\n",
    "print(stocks.describe())\n",
    "print()\n",
    "print(stocks.info())"
   ]
  },
  {
   "cell_type": "markdown",
   "metadata": {},
   "source": [
    "### Line plot"
   ]
  },
  {
   "cell_type": "code",
   "execution_count": 46,
   "metadata": {},
   "outputs": [
    {
     "data": {
      "image/png": "[encoded data removed]",
      "text/plain": [
       "<Figure size 432x288 with 1 Axes>"
      ]
     },
     "metadata": {
      "needs_background": "light"
     },
     "output_type": "display_data"
    }
   ],
   "source": [
    "y_columns = ['AAPL', 'IBM']\n",
    "stocks.plot(x='Month', y=y_columns)\n",
    "plt.title('Monthly stock prices')\n",
    "plt.ylabel('Price ($US)')\n",
    "plt.show()"
   ]
  },
  {
   "cell_type": "markdown",
   "metadata": {},
   "source": [
    "### Scatter plot"
   ]
  },
  {
   "cell_type": "code",
   "execution_count": 7,
   "metadata": {},
   "outputs": [
    {
     "data": {
      "image/png": "[encoded data removed]",
      "text/plain": [
       "<Figure size 432x288 with 1 Axes>"
      ]
     },
     "metadata": {
      "needs_background": "light"
     },
     "output_type": "display_data"
    }
   ],
   "source": [
    "col_names_cars = ['mpg', 'cylinders', 'displacement', 'bhp', 'weight', 'acceleration', 'model_year', 'origin', 'car name' ]\n",
    "cars = pd.read_csv(\"data/auto-mpg.data\", sep = '\\s+', \n",
    "                   header = None, names = col_names_cars,\n",
    "                   na_values='?')\n",
    "#print(cars.head(), '\\n')\n",
    "#print(cars.describe())\n",
    "\n",
    "v = cars['weight'].values\n",
    "#weight_norm = v / np.sqrt(np.sum(v**2)) \n",
    "weight_norm = v / np.linalg.norm(v, ord=-2)\n",
    "#print(weight_norm)\n",
    "\n",
    "cars.plot(kind='scatter', x='bhp', y='mpg', s=weight_norm)\n",
    "plt.title('Fuel efficiency vs Horse-power')\n",
    "plt.xlabel('Horse-power')\n",
    "plt.ylabel('Fuel efficiency (mpg)')\n",
    "plt.show()"
   ]
  },
  {
   "cell_type": "markdown",
   "metadata": {},
   "source": [
    "### Box plot as subplots with different scale"
   ]
  },
  {
   "cell_type": "code",
   "execution_count": 48,
   "metadata": {},
   "outputs": [
    {
     "data": {
      "image/png": "[encoded data removed]",
      "text/plain": [
       "<Figure size 432x288 with 2 Axes>"
      ]
     },
     "metadata": {
      "needs_background": "light"
     },
     "output_type": "display_data"
    }
   ],
   "source": [
    "cols = ['weight', 'mpg']\n",
    "cars[cols].plot(kind='box',subplots=True)\n",
    "plt.show()"
   ]
  },
  {
   "cell_type": "markdown",
   "metadata": {},
   "source": [
    "### pandas hist, pdf and cdf"
   ]
  },
  {
   "cell_type": "code",
   "execution_count": 65,
   "metadata": {},
   "outputs": [
    {
     "data": {
      "image/png": "[encoded data removed]",
      "text/plain": [
       "<Figure size 432x288 with 2 Axes>"
      ]
     },
     "metadata": {
      "needs_background": "light"
     },
     "output_type": "display_data"
    }
   ],
   "source": [
    "tips = pd.read_csv(\"data/tips.csv\", header = 0)\n",
    "\n",
    "tips['fraction'] = tips.tip / tips.total_bill\n",
    "\n",
    "tips.describe()\n",
    "\n",
    "# This formats the plots such that they appear on separate rows\n",
    "fig, axes = plt.subplots(nrows=2, ncols=1)\n",
    "\n",
    "# Plot the PDF\n",
    "tips.fraction.plot(ax=axes[0], \n",
    "    kind='hist', density=True, bins=30, range=(0,.3))\n",
    "\n",
    "# Plot the CDF\n",
    "tips.fraction.plot(ax=axes[1], \n",
    "    kind='hist', density=True, cumulative=True, bins=30, range=(0,.3))\n",
    "\n",
    "plt.show()"
   ]
  },
  {
   "cell_type": "markdown",
   "metadata": {},
   "source": [
    "## Statistical EDA"
   ]
  },
  {
   "cell_type": "code",
   "execution_count": 10,
   "metadata": {},
   "outputs": [
    {
     "name": "stdout",
     "output_type": "stream",
     "text": [
      "             AAPL        GOOG         IBM\n",
      "count   12.000000   12.000000   12.000000\n",
      "mean   119.500000  607.500000  153.666667\n",
      "std      7.573879   86.014269   11.949388\n",
      "min    105.000000  520.000000  137.000000\n",
      "25%    115.750000  536.250000  143.000000\n",
      "50%    120.000000  583.000000  156.500000\n",
      "75%    125.000000  646.250000  161.250000\n",
      "max    130.000000  758.000000  171.000000 \n",
      "\n",
      "AAPL    119.500000\n",
      "GOOG    607.500000\n",
      "IBM     153.666667\n",
      "dtype: float64 \n",
      "\n",
      "        AAPL   GOOG    IBM\n",
      "0.05  107.75  526.6  138.1\n",
      "0.95  128.90  749.2  169.9\n"
     ]
    }
   ],
   "source": [
    "print(stocks.describe(), \"\\n\")\n",
    "print(stocks.mean(), \"\\n\")\n",
    "q = [0.05, 0.95]\n",
    "print(stocks.quantile(q))\n"
   ]
  },
  {
   "cell_type": "code",
   "execution_count": 9,
   "metadata": {},
   "outputs": [
    {
     "data": {
      "text/plain": [
       "23.0"
      ]
     },
     "execution_count": 9,
     "metadata": {},
     "output_type": "execute_result"
    }
   ],
   "source": [
    "cars.mpg.median()"
   ]
  },
  {
   "cell_type": "raw",
   "metadata": {},
   "source": [
    "#To calculate mean across columns per row (eg with years as index):\n",
    "mean = df.mean(axis='columns')\n",
    "\n",
    "#To generate a plot only on selective years:\n",
    "years = ['1800','1850','1900','1950','2000']\n",
    "df[years].plot(kind='box')\n",
    "\n",
    "#For categorical columns .describe()` gives: unique(#distinct values), top(most frequent category), freq(#occurences of top)"
   ]
  },
  {
   "cell_type": "code",
   "execution_count": 20,
   "metadata": {},
   "outputs": [
    {
     "name": "stdout",
     "output_type": "stream",
     "text": [
      "       sepal_length  sepal_width  petal_length  petal_width\n",
      "count    150.000000   150.000000    150.000000   150.000000\n",
      "mean       5.843333     3.054000      3.758667     1.198667\n",
      "std        0.828066     0.433594      1.764420     0.763161\n",
      "min        4.300000     2.000000      1.000000     0.100000\n",
      "25%        5.100000     2.800000      1.600000     0.300000\n",
      "50%        5.800000     3.000000      4.350000     1.300000\n",
      "75%        6.400000     3.300000      5.100000     1.800000\n",
      "max        7.900000     4.400000      6.900000     2.500000\n",
      "['Iris-setosa' 'Iris-versicolor' 'Iris-virginica']\n"
     ]
    }
   ],
   "source": [
    "col_names_iris = ['sepal_length', 'sepal_width', 'petal_length', 'petal_width', 'species']\n",
    "iris = pd.read_csv(\"data/iris.data\", \n",
    "                   header = None, \n",
    "                   names = col_names_iris,\n",
    "                   index_col=False)\n",
    "print(iris.describe())\n",
    "print(iris.species.unique())"
   ]
  },
  {
   "cell_type": "code",
   "execution_count": 21,
   "metadata": {},
   "outputs": [
    {
     "data": {
      "image/png": "[encoded data removed]",
      "text/plain": [
       "<Figure size 432x288 with 1 Axes>"
      ]
     },
     "metadata": {
      "needs_background": "light"
     },
     "output_type": "display_data"
    }
   ],
   "source": [
    "iris.plot(kind='hist', bins=50, range=(0,8), alpha=0.3)\n",
    "plt.title('Entire iris data set')\n",
    "plt.xlabel('[cm]')\n",
    "plt.show()\n",
    "#bit messy, lot of overlap"
   ]
  },
  {
   "cell_type": "code",
   "execution_count": 24,
   "metadata": {},
   "outputs": [
    {
     "data": {
      "text/html": [
       "<div>\n",
       "<style scoped>\n",
       "    .dataframe tbody tr th:only-of-type {\n",
       "        vertical-align: middle;\n",
       "    }\n",
       "\n",
       "    .dataframe tbody tr th {\n",
       "        vertical-align: top;\n",
       "    }\n",
       "\n",
       "    .dataframe thead th {\n",
       "        text-align: right;\n",
       "    }\n",
       "</style>\n",
       "<table border=\"1\" class=\"dataframe\">\n",
       "  <thead>\n",
       "    <tr style=\"text-align: right;\">\n",
       "      <th></th>\n",
       "      <th>sepal_length</th>\n",
       "      <th>sepal_width</th>\n",
       "      <th>petal_length</th>\n",
       "      <th>petal_width</th>\n",
       "    </tr>\n",
       "  </thead>\n",
       "  <tbody>\n",
       "    <tr>\n",
       "      <th>0</th>\n",
       "      <td>5.1</td>\n",
       "      <td>3.5</td>\n",
       "      <td>1.4</td>\n",
       "      <td>0.2</td>\n",
       "    </tr>\n",
       "    <tr>\n",
       "      <th>1</th>\n",
       "      <td>4.9</td>\n",
       "      <td>3.0</td>\n",
       "      <td>1.4</td>\n",
       "      <td>0.2</td>\n",
       "    </tr>\n",
       "    <tr>\n",
       "      <th>2</th>\n",
       "      <td>4.7</td>\n",
       "      <td>3.2</td>\n",
       "      <td>1.3</td>\n",
       "      <td>0.2</td>\n",
       "    </tr>\n",
       "    <tr>\n",
       "      <th>3</th>\n",
       "      <td>4.6</td>\n",
       "      <td>3.1</td>\n",
       "      <td>1.5</td>\n",
       "      <td>0.2</td>\n",
       "    </tr>\n",
       "    <tr>\n",
       "      <th>4</th>\n",
       "      <td>5.0</td>\n",
       "      <td>3.6</td>\n",
       "      <td>1.4</td>\n",
       "      <td>0.2</td>\n",
       "    </tr>\n",
       "  </tbody>\n",
       "</table>\n",
       "</div>"
      ],
      "text/plain": [
       "   sepal_length  sepal_width  petal_length  petal_width\n",
       "0           5.1          3.5           1.4          0.2\n",
       "1           4.9          3.0           1.4          0.2\n",
       "2           4.7          3.2           1.3          0.2\n",
       "3           4.6          3.1           1.5          0.2\n",
       "4           5.0          3.6           1.4          0.2"
      ]
     },
     "execution_count": 24,
     "metadata": {},
     "output_type": "execute_result"
    }
   ],
   "source": [
    "#filter by species:\n",
    "setosa = iris.loc[iris['species'] == 'Iris-setosa', :]\n",
    "versicolor = iris.loc[iris['species'] == 'Iris-versicolor', :]\n",
    "virginica = iris.loc[iris['species'] == 'Iris-virginica', :]\n",
    "del setosa['species'], versicolor['species'], virginica['species']"
   ]
  },
  {
   "cell_type": "code",
   "execution_count": 25,
   "metadata": {},
   "outputs": [
    {
     "data": {
      "image/png": "[encoded data removed]",
      "text/plain": [
       "<Figure size 432x288 with 1 Axes>"
      ]
     },
     "metadata": {
      "needs_background": "light"
     },
     "output_type": "display_data"
    },
    {
     "data": {
      "image/png": "[encoded data removed]",
      "text/plain": [
       "<Figure size 432x288 with 1 Axes>"
      ]
     },
     "metadata": {
      "needs_background": "light"
     },
     "output_type": "display_data"
    },
    {
     "data": {
      "image/png": "[encoded data removed]",
      "text/plain": [
       "<Figure size 432x288 with 1 Axes>"
      ]
     },
     "metadata": {
      "needs_background": "light"
     },
     "output_type": "display_data"
    }
   ],
   "source": [
    "setosa.plot(kind='hist', bins=50, range=(0,8), alpha=0.3)\n",
    "plt.title('Setosa data set')\n",
    "plt.xlabel('[cm]')\n",
    "versicolor.plot(kind='hist', bins=50, range=(0,8), alpha=0.3)\n",
    "plt.title('Versicolor data set')\n",
    "plt.xlabel('[cm]')\n",
    "virginica.plot(kind='hist', bins=50, range=(0,8), alpha=0.3)\n",
    "plt.title('Virginica data set')\n",
    "plt.xlabel('[cm]')\n",
    "\n",
    "plt.show()"
   ]
  },
  {
   "cell_type": "code",
   "execution_count": 27,
   "metadata": {},
   "outputs": [
    {
     "name": "stdout",
     "output_type": "stream",
     "text": [
      "       sepal_length  sepal_width  petal_length  petal_width\n",
      "count    200.000000   200.000000    200.000000   200.000000\n",
      "mean      16.726595    10.649503    156.739526   391.256831\n",
      "std      134.919250    13.796994    916.891608   611.840574\n",
      "min        0.000000    13.043478      0.000000     0.000000\n",
      "25%        6.250000    10.400000     14.285714    50.000000\n",
      "50%       16.000000    11.764706    190.000000   550.000000\n",
      "75%       23.076923    10.204082    223.809524   500.000000\n",
      "max       36.206897     0.000000    263.157895   316.666667\n"
     ]
    }
   ],
   "source": [
    "describe_all = iris.describe()\n",
    "describe_setosa = setosa.describe()\n",
    "describe_versicolor = versicolor.describe()\n",
    "describe_virginica = virginica.describe()\n",
    "\n",
    "# compute percentage error\n",
    "error_setosa = (100 * np.abs(describe_setosa - describe_all)) / describe_setosa\n",
    "error_versicolor = (100 * np.abs(describe_versicolor - describe_all)) / describe_versicolor\n",
    "error_virginica = (100 * np.abs(describe_virginica - describe_all)) / describe_virginica\n",
    "\n",
    "print(error_setosa)\n",
    "#especially for petal length and width great difference between overall mean and species specific mean"
   ]
  },
  {
   "cell_type": "raw",
   "metadata": {},
   "source": [
    "# Display the box plots on 3 separate rows and 1 column\n",
    "fig, axes = plt.subplots(nrows=3, ncols=1)\n",
    "\n",
    "# Generate a box plot of the fare prices for the First passenger class\n",
    "titanic.loc[titanic['pclass'] == 1].plot(ax=axes[0], y='fare', kind='box')\n",
    "\n",
    "# Generate a box plot of the fare prices for the Second passenger class\n",
    "titanic.loc[titanic.pclass == 2].plot(ax=axes[1], y='fare', kind='box')\n",
    "\n",
    "# Generate a box plot of the fare prices for the Third passenger class\n",
    "titanic.loc[titanic.pclass == 3].plot(ax=axes[2], y='fare', kind='box')\n",
    "\n",
    "# Display the plot\n",
    "plt.show()"
   ]
  },
  {
   "cell_type": "markdown",
   "metadata": {},
   "source": [
    "## Time series in pandas"
   ]
  },
  {
   "cell_type": "code",
   "execution_count": 20,
   "metadata": {},
   "outputs": [
    {
     "name": "stdout",
     "output_type": "stream",
     "text": [
      "       Temperature     DewPoint  Pressure\n",
      "count  8759.000000  8759.000000    8759.0\n",
      "mean     68.077258    55.939057       1.0\n",
      "std      13.773378    11.757706       0.0\n",
      "min      41.800000    35.300000       1.0\n",
      "25%      57.100000    44.400000       1.0\n",
      "50%      68.700000    57.300000       1.0\n",
      "75%      78.550000    67.800000       1.0\n",
      "max      95.300000    72.900000       1.0 \n",
      "\n",
      "<class 'pandas.core.frame.DataFrame'>\n",
      "DatetimeIndex: 8759 entries, 2010-01-01 00:00:00 to 2010-12-31 23:00:00\n",
      "Data columns (total 3 columns):\n",
      "Temperature    8759 non-null float64\n",
      "DewPoint       8759 non-null float64\n",
      "Pressure       8759 non-null float64\n",
      "dtypes: float64(3)\n",
      "memory usage: 273.7 KB\n",
      "None\n"
     ]
    }
   ],
   "source": [
    "weather = pd.read_csv('data/weather_data_austin_2010.csv',\n",
    "                      parse_dates = True, #parse_dates=['Date'] would only convert to full datetime, but doesnt use it as index\n",
    "                      index_col = 'Date')\n",
    "print(weather.describe(), \"\\n\")\n",
    "print(weather.info())"
   ]
  },
  {
   "cell_type": "code",
   "execution_count": 16,
   "metadata": {},
   "outputs": [
    {
     "data": {
      "text/plain": [
       "Date\n",
       "2010-08-01 00:00:00    79.0\n",
       "2010-08-01 01:00:00    77.4\n",
       "2010-08-01 02:00:00    76.4\n",
       "2010-08-01 03:00:00    75.7\n",
       "2010-08-01 04:00:00    75.1\n",
       "Name: Temperature, dtype: float64"
      ]
     },
     "execution_count": 16,
     "metadata": {},
     "output_type": "execute_result"
    }
   ],
   "source": [
    "##Partial datetime string selection, gives all data for this date\n",
    "#sales.loc['2015-2-5'] \n",
    "#sales.loc['February 5, 2015']\n",
    "#sales.loc['2015-Feb-5']\n",
    "#sales.loc['2015-2']\n",
    "#sales.loc['2015']\n",
    "#sales.loc['2015-2-5':'2015-2-9']\n",
    "\n",
    "august = weather.Temperature['August, 2010'] #or: ['2010-8-1':'2010-8-31']"
   ]
  },
  {
   "cell_type": "raw",
   "metadata": {},
   "source": [
    "#reindex\n",
    "evening_2_11 = pd.to_datetime(['2015-2-11 20:00', '2015-2-11 23:00'])\n",
    "sales.reindex(evening_2_11, method='ffill') #to use preceding values to fill NaN columns. ffill: forward fill, bfill: backward fill\n",
    "\n",
    "# Prepare a format string: time_format\n",
    "time_format = '%Y-%m-%d %H:%M'\n",
    "# Convert date_list into a datetime object: my_datetimes\n",
    "my_datetimes = pd.to_datetime(date_list, format=time_format)  \n",
    "# Construct a pandas Series using temperature_list and my_datetimes: time_series\n",
    "time_series = pd.Series(temperature_list, index=my_datetimes)\n",
    "\n",
    "# Convert the 'Date' column into a collection of datetime objects: df.Date\n",
    "df.Date = pd.to_datetime(df['Date'])\n",
    "# Set the index to be the converted 'Date' column, this way you don't have to assign the result back to df\n",
    "df.set_index('Date', inplace=True)\n",
    "\n",
    "In this exercise, two time series data sets containing daily data have been pre-loaded for you, each indexed by dates. The first, ts1, includes weekends, but the second, ts2, does not. The goal is to combine the two data sets in a sensible way. Your job is to reindex the second data set so that it has weekends as well, and then add it to the first. \n",
    "\n",
    "ts2_new = ts2.reindex(ts1.index, method='ffill')\n",
    "ts_total = ts + ts2_new"
   ]
  },
  {
   "cell_type": "markdown",
   "metadata": {},
   "source": [
    "### Resampling"
   ]
  },
  {
   "cell_type": "raw",
   "metadata": {},
   "source": [
    "#downsampling\n",
    "daily_mean = sales.resample('D').mean() #T/min(ute), D(aily), B(usiness day), W(eekly), H(our), M(onth), Q(uarter), A(nnual), 2W (offset on Sundays)\n",
    "\n",
    "#method chaining: sales.resample('D').sum().max()\n",
    "\n",
    "#upsampling and filling\n",
    "two.days.resample('4H').ffill()\n",
    "\n",
    "#interpolate missing values, eg from Series with only data at end of decades\n",
    "population.resample('A').first.interpolate('linear')"
   ]
  },
  {
   "cell_type": "code",
   "execution_count": 19,
   "metadata": {},
   "outputs": [
    {
     "data": {
      "image/png": "[encoded data removed]",
      "text/plain": [
       "<Figure size 432x288 with 1 Axes>"
      ]
     },
     "metadata": {
      "needs_background": "light"
     },
     "output_type": "display_data"
    }
   ],
   "source": [
    "# Downsample to obtain only the daily highest temperatures in August: august_highs\n",
    "august_highs = august.resample('D').max()\n",
    "\n",
    "# Apply a rolling mean with a 24 hour window: smoothed\n",
    "smoothed = august.rolling(window=24).mean()\n",
    "daily_highs_smoothed = august.resample('D').max().rolling(window=7).mean().resample('H').ffill()\n",
    "\n",
    "# Create a new DataFrame with columns smoothed and unsmoothed: august_weather\n",
    "august_weather = pd.DataFrame({'smoothed':smoothed, 'unsmoothed':august, 'smoothed highs':daily_highs_smoothed})\n",
    "\n",
    "# Plot both smoothed and unsmoothed data using august.plot().\n",
    "august_weather.plot()\n",
    "plt.show()"
   ]
  },
  {
   "cell_type": "raw",
   "metadata": {},
   "source": [
    "#Substring matching\n",
    "sales['Product'].str.contains('ware')  #returns a Series with boolean values whether or not string contains 'ware'\n",
    "sales['Product'].str.contains('ware').sum()  #gives total number of True's (False=0, True=1)\n",
    "sales.columns = df.columns.str.strip() # Strip extra (leadin/trailing) whitespace from the column names\n",
    "dallas = df[df['Destination Airport'].str.contains('DAL', na=False)] # Extract data for which the destination airport is Dallas, account for NA / NaN values\n",
    "\n",
    "#datetime methods\n",
    "sales['Date'].dt.hour  #gives hours of dt values.\n",
    "sales['Date'].dt.tz_localize('US/Central') #set timezone, convert to other tz with `tz_convert('US/Eastern')`\n",
    "\n",
    "# Filling missing data points: comparing two Series with different index\n",
    "# Reset the index of ts2 to ts1, and then use linear interpolation to fill in the NaNs: ts2_interp\n",
    "ts2_interp = ts2.reindex(ts1.index).interpolate('linear')\n",
    "\n",
    "#Masked arrays / Boolean mask\n",
    "# Build a Boolean mask to filter for the 'LAX' departure flights: mask\n",
    "mask = df['Destination Airport'] == 'LAX'\n",
    "# Use the mask to subset the data: la\n",
    "la = df[mask]"
   ]
  },
  {
   "cell_type": "markdown",
   "metadata": {},
   "source": [
    "## Case Study: weather vs climate"
   ]
  },
  {
   "cell_type": "code",
   "execution_count": 80,
   "metadata": {},
   "outputs": [
    {
     "name": "stdout",
     "output_type": "stream",
     "text": [
      "2011-06-20 08:27:00     M\n",
      "2011-06-20 08:28:00     M\n",
      "2011-06-20 08:29:00     M\n",
      "2011-06-20 08:30:00     M\n",
      "2011-06-20 08:31:00     M\n",
      "2011-06-20 08:32:00     M\n",
      "2011-06-20 08:33:00     M\n",
      "2011-06-20 08:34:00     M\n",
      "2011-06-20 08:35:00     M\n",
      "2011-06-20 08:53:00    83\n",
      "Name: dry_bulb_faren, dtype: object\n",
      "          Wban  StationType    visibility  dry_bulb_faren  dew_point_faren  \\\n",
      "count  10337.0      10337.0  10324.000000     10326.00000     10323.000000   \n",
      "mean   13904.0         12.0      9.172677        69.16841        54.757144   \n",
      "std        0.0          0.0      2.107100        17.85284        15.812253   \n",
      "min    13904.0         12.0      0.000000        18.00000         6.000000   \n",
      "25%    13904.0         12.0     10.000000        57.00000        43.000000   \n",
      "50%    13904.0         12.0     10.000000        72.00000        60.000000   \n",
      "75%    13904.0         12.0     10.000000        81.00000        68.000000   \n",
      "max    13904.0         12.0     10.000000       110.00000        76.000000   \n",
      "\n",
      "         wind_speed  \n",
      "count  10318.000000  \n",
      "mean       9.086451  \n",
      "std        5.913850  \n",
      "min        0.000000  \n",
      "25%        5.000000  \n",
      "50%        9.000000  \n",
      "75%       13.000000  \n",
      "max       30.000000  \n"
     ]
    }
   ],
   "source": [
    "NOAA_2011 = pd.read_csv('data/NOAA_QCLCD_2011_hourly_13904.txt', \n",
    "                        header=None)\n",
    "\n",
    "column_labels = 'Wban,date,Time,StationType,sky_condition,sky_conditionFlag,visibility,visibilityFlag,wx_and_obst_to_vision,wx_and_obst_to_visionFlag,dry_bulb_faren,dry_bulb_farenFlag,dry_bulb_cel,dry_bulb_celFlag,wet_bulb_faren,wet_bulb_farenFlag,wet_bulb_cel,wet_bulb_celFlag,dew_point_faren,dew_point_farenFlag,dew_point_cel,dew_point_celFlag,relative_humidity,relative_humidityFlag,wind_speed,wind_speedFlag,wind_direction,wind_directionFlag,value_for_wind_character,value_for_wind_characterFlag,station_pressure,station_pressureFlag,pressure_tendency,pressure_tendencyFlag,presschange,presschangeFlag,sea_level_pressure,sea_level_pressureFlag,record_type,hourly_precip,hourly_precipFlag,altimeter,altimeterFlag,junk'\n",
    "list_to_drop = ['sky_conditionFlag',\n",
    " 'visibilityFlag',\n",
    " 'wx_and_obst_to_vision',\n",
    " 'wx_and_obst_to_visionFlag',\n",
    " 'dry_bulb_farenFlag',\n",
    " 'dry_bulb_celFlag',\n",
    " 'wet_bulb_farenFlag',\n",
    " 'wet_bulb_celFlag',\n",
    " 'dew_point_farenFlag',\n",
    " 'dew_point_celFlag',\n",
    " 'relative_humidityFlag',\n",
    " 'wind_speedFlag',\n",
    " 'wind_directionFlag',\n",
    " 'value_for_wind_character',\n",
    " 'value_for_wind_characterFlag',\n",
    " 'station_pressureFlag',\n",
    " 'pressure_tendencyFlag',\n",
    " 'pressure_tendency',\n",
    " 'presschange',\n",
    " 'presschangeFlag',\n",
    " 'sea_level_pressureFlag',\n",
    " 'hourly_precip',\n",
    " 'hourly_precipFlag',\n",
    " 'altimeter',\n",
    " 'record_type',\n",
    " 'altimeterFlag',\n",
    " 'junk']\n",
    "\n",
    "#apply column labels\n",
    "NOAA_2011.columns = list(column_labels.split(','))\n",
    "#drop unneccessary columns in original dataframe, no need to assign\n",
    "NOAA_2011.drop(list_to_drop, axis='columns', inplace=True)\n",
    "# Convert the date column to string: df_dropped['date']\n",
    "NOAA_2011['date'] = NOAA_2011['date'].astype(str)\n",
    "# Pad leading zeros to the Time column: df_dropped['Time']\n",
    "NOAA_2011['Time'] = NOAA_2011['Time'].apply(lambda x:'{:0>4}'.format(x))\n",
    "# Concatenate the new date and Time columns: date_string\n",
    "date_string = NOAA_2011.date + NOAA_2011.Time\n",
    "# Convert the date_string Series to datetime: date_times\n",
    "date_times = pd.to_datetime(date_string, format='%Y%m%d%H%M')\n",
    "NOAA_2011.set_index(date_times, inplace=True)\n",
    "\n",
    "#Clean numeric columns\n",
    "#Missing values are labeled as 'M'\n",
    "print(NOAA_2011.loc['June 20, 2011, 08:00 AM':'June 20, 2011, 09:00 AM', 'dry_bulb_faren'])\n",
    "NOAA_2011['dry_bulb_faren'] = pd.to_numeric(NOAA_2011['dry_bulb_faren'], errors='coerce')\n",
    "NOAA_2011['wind_speed'] = pd.to_numeric(NOAA_2011['wind_speed'], errors='coerce')\n",
    "NOAA_2011['dew_point_faren'] = pd.to_numeric(NOAA_2011['dew_point_faren'], errors='coerce')\n",
    "NOAA_2011['visibility'] = pd.to_numeric(NOAA_2011['visibility'], errors='coerce')\n",
    "\n",
    "#print(NOAA_2011.head(), \"\\n\")\n",
    "print(NOAA_2011.describe())"
   ]
  },
  {
   "cell_type": "markdown",
   "metadata": {},
   "source": [
    "### Statistical EDA"
   ]
  },
  {
   "cell_type": "code",
   "execution_count": 46,
   "metadata": {},
   "outputs": [
    {
     "name": "stdout",
     "output_type": "stream",
     "text": [
      "Median temperature:  72.0\n",
      "Median temperature Apr-Jun 2011:  78.0\n",
      "Median temperature Jan 2011:  48.0\n"
     ]
    }
   ],
   "source": [
    "# Print the median of the dry_bulb_faren column\n",
    "print('Median temperature:', NOAA_2011['dry_bulb_faren'].median())\n",
    "\n",
    "# Print the median of the dry_bulb_faren column for the time range '2011-Apr':'2011-Jun'\n",
    "print('Median temperature Apr-Jun 2011:', NOAA_2011.loc['2011-Apr':'2011-Jun', 'dry_bulb_faren'].median())\n",
    "\n",
    "# Print the median of the dry_bulb_faren column for the month of January\n",
    "print('Median temperature Jan 2011:', NOAA_2011.loc['2011-Jan', 'dry_bulb_faren'].median())"
   ]
  },
  {
   "cell_type": "code",
   "execution_count": 48,
   "metadata": {},
   "outputs": [
    {
     "name": "stdout",
     "output_type": "stream",
     "text": [
      "Average temp (F) difference in 2011 compared to 30-year normals: 1.3301831870056482\n"
     ]
    }
   ],
   "source": [
    "print('on average, how much hotter was every day in 2011 than expected from the 30-year average?')\n",
    "#30-year normals reported in 2010\n",
    "df_climate = pd.read_csv('data/weather_data_austin_2010.csv',\n",
    "                      parse_dates = True, #parse_dates=['Date'] would only convert to full datetime, but doesnt use it as index\n",
    "                      index_col = 'Date')\n",
    "\n",
    "# Downsample df_clean by day and aggregate by mean: daily_mean_2011\n",
    "daily_mean_2011 = NOAA_2011.resample('D').mean()\n",
    "# Extract the dry_bulb_faren column from daily_mean_2011 as a NumPy array using .values: daily_temp_2011\n",
    "daily_temp_2011 = daily_mean_2011['dry_bulb_faren'].values\n",
    "\n",
    "# Downsample df_climate by day and aggregate by mean: daily_climate\n",
    "daily_climate = df_climate.resample('D').mean()\n",
    "# Extract the Temperature column from daily_climate using alternative approach to align both Series properly\n",
    "# use .reset_index(): daily_temp_climate\n",
    "daily_temp_climate = daily_climate.reset_index()['Temperature']\n",
    "\n",
    "# Compute the difference between the two arrays and print the mean difference\n",
    "difference = daily_temp_2011 - daily_temp_climate\n",
    "print('Average temp (F) difference in 2011 compared to 30-year normals:', difference.mean())"
   ]
  },
  {
   "cell_type": "code",
   "execution_count": 56,
   "metadata": {},
   "outputs": [
    {
     "name": "stdout",
     "output_type": "stream",
     "text": [
      "On average, how much hotter is it when the sun is shining?\n",
      "Wban               0.000000\n",
      "StationType        0.000000\n",
      "dry_bulb_faren     6.504304\n",
      "dew_point_faren   -4.339286\n",
      "wind_speed        -3.246062\n",
      "dtype: float64\n"
     ]
    }
   ],
   "source": [
    "print('On average, how much hotter is it when the sun is shining?')\n",
    "\n",
    "# Using df_clean, when is sky_condition 'CLR'?\n",
    "is_sky_clear = NOAA_2011['sky_condition']=='CLR'\n",
    "# Using df_clean, when does sky_condition contain 'OVC'?\n",
    "is_sky_overcast = NOAA_2011['sky_condition'].str.contains('OVC')\n",
    "\n",
    "# Filter df_clean using is_sky_clear\n",
    "sunny = NOAA_2011.loc[is_sky_clear]\n",
    "#or: sunny = df_clean[is_sky_clear]  #using is_sky_clear as mask\n",
    "overcast = NOAA_2011.loc[is_sky_overcast]\n",
    "\n",
    "# Resample sunny by day then calculate the max\n",
    "sunny_daily_max = sunny.resample('D').max()\n",
    "overcast_daily_max = overcast.resample('D').max()\n",
    "\n",
    "# Calculate the mean of sunny_daily_max\n",
    "sunny_daily_max_mean = sunny_daily_max.mean()\n",
    "# Calculate the mean of overcast_daily_max\n",
    "overcast_daily_max_mean = overcast_daily_max.mean()\n",
    "\n",
    "# Print the difference (sunny minus overcast)\n",
    "print(sunny_daily_max_mean - overcast_daily_max_mean)"
   ]
  },
  {
   "cell_type": "markdown",
   "metadata": {},
   "source": [
    "### Visual EDA"
   ]
  },
  {
   "cell_type": "code",
   "execution_count": 57,
   "metadata": {},
   "outputs": [
    {
     "data": {
      "image/png": "[encoded data removed]",
      "text/plain": [
       "<Figure size 432x288 with 1 Axes>"
      ]
     },
     "metadata": {
      "needs_background": "light"
     },
     "output_type": "display_data"
    }
   ],
   "source": [
    "df_climate.Temperature['2010-07'].plot()\n",
    "plt.title('Temperature (July 2010)')\n",
    "plt.show()"
   ]
  },
  {
   "cell_type": "code",
   "execution_count": 63,
   "metadata": {},
   "outputs": [
    {
     "data": {
      "image/png": "[encoded data removed]",
      "text/plain": [
       "<Figure size 432x288 with 3 Axes>"
      ]
     },
     "metadata": {
      "needs_background": "light"
     },
     "output_type": "display_data"
    }
   ],
   "source": [
    "df_climate.plot(kind='hist', density=True, bins=100, subplots=True)\n",
    "#plt.title('Dew Point distribution (2010)')\n",
    "plt.show()"
   ]
  },
  {
   "cell_type": "code",
   "execution_count": 99,
   "metadata": {},
   "outputs": [
    {
     "name": "stdout",
     "output_type": "stream",
     "text": [
      "Is there a correlation between temperature and visibility? Let's find out.\n",
      "                visibility  dry_bulb_faren\n",
      "visibility        1.000000        0.490328\n",
      "dry_bulb_faren    0.490328        1.000000 \n",
      "\n"
     ]
    },
    {
     "data": {
      "image/png": "[encoded data removed]",
      "text/plain": [
       "<Figure size 432x288 with 2 Axes>"
      ]
     },
     "metadata": {
      "needs_background": "light"
     },
     "output_type": "display_data"
    },
    {
     "data": {
      "image/png": "[encoded data removed]",
      "text/plain": [
       "<Figure size 432x288 with 2 Axes>"
      ]
     },
     "metadata": {
      "needs_background": "light"
     },
     "output_type": "display_data"
    }
   ],
   "source": [
    "print('Is there a correlation between temperature and visibility? Let\\'s find out.')\n",
    "\n",
    "# Select the visibility and dry_bulb_faren columns and resample them: weekly_mean\n",
    "weekly_mean = NOAA_2011[['visibility', 'dry_bulb_faren']].resample('W').mean()\n",
    "\n",
    "# Print the output of weekly_mean.corr()\n",
    "print(weekly_mean.corr(),'\\n')\n",
    "\n",
    "# Plot weekly_mean with subplots=True - two separate plots, with automated markup\n",
    "weekly_mean.plot(subplots=True)\n",
    "plt.show()\n",
    "\n",
    "fig, ax1 = plt.subplots()\n",
    "\n",
    "#color = 'tab:red'\n",
    "#ax1.set_xlabel('time (s)')\n",
    "#ax1.set_ylabel('exp', color=color)\n",
    "ax1.plot(weekly_mean['visibility'], label='visibility')#, color=color)\n",
    "#ax1.tick_params(axis='y', labelcolor=color)\n",
    "\n",
    "ax2 = ax1.twinx()  # instantiate a second axes that shares the same x-axis\n",
    "\n",
    "#color = 'tab:blue'\n",
    "#ax2.set_ylabel('sin', color=color)  # we already handled the x-label with ax1\n",
    "ax2.plot(weekly_mean['dry_bulb_faren'], label='dry temp (F)', color='orange')\n",
    "#ax2.tick_params(axis='y', labelcolor=color)\n",
    "\n",
    "#add legend, not shown by default\n",
    "#method 1\n",
    "# add figure legend, outside plot\n",
    "#fig.legend(loc=0)\n",
    "#method 2\n",
    "# ask matplotlib for the plotted objects and their labels\n",
    "lines, labels = ax1.get_legend_handles_labels()\n",
    "lines2, labels2 = ax2.get_legend_handles_labels()\n",
    "ax2.legend(lines + lines2, labels + labels2, loc='lower right')\n",
    "\n",
    "#fig.tight_layout()  # otherwise the right y-label is slightly clipped\n",
    "plt.title('Weekly average temperature and visibility')\n",
    "plt.show()\n"
   ]
  },
  {
   "cell_type": "code",
   "execution_count": 98,
   "metadata": {},
   "outputs": [
    {
     "name": "stdout",
     "output_type": "stream",
     "text": [
      "Daily hours of clear sky\n"
     ]
    },
    {
     "data": {
      "image/png": "[encoded data removed]",
      "text/plain": [
       "<Figure size 432x288 with 1 Axes>"
      ]
     },
     "metadata": {
      "needs_background": "light"
     },
     "output_type": "display_data"
    },
    {
     "name": "stdout",
     "output_type": "stream",
     "text": [
      "Typically, the weather is sunny less than 40% of the time\n"
     ]
    }
   ],
   "source": [
    "print('Daily hours of clear sky')\n",
    "\n",
    "#number of sunny hours in a day divided by the number of total hours recorded per day\n",
    "sunny_fraction = is_sky_clear.resample('D').sum() / is_sky_clear.resample('D').count()\n",
    "# Make a box plot of sunny_fraction\n",
    "sunny_fraction.plot(kind='box')\n",
    "plt.show()\n",
    "\n",
    "print('Typically, the weather is sunny less than 40% of the time')"
   ]
  },
  {
   "cell_type": "code",
   "execution_count": 103,
   "metadata": {},
   "outputs": [
    {
     "name": "stdout",
     "output_type": "stream",
     "text": [
      "Heat or humidity?\n"
     ]
    },
    {
     "data": {
      "image/png": "[encoded data removed]",
      "text/plain": [
       "<Figure size 432x288 with 2 Axes>"
      ]
     },
     "metadata": {
      "needs_background": "light"
     },
     "output_type": "display_data"
    },
    {
     "data": {
      "image/png": "[encoded data removed]",
      "text/plain": [
       "<Figure size 432x288 with 2 Axes>"
      ]
     },
     "metadata": {
      "needs_background": "light"
     },
     "output_type": "display_data"
    },
    {
     "name": "stdout",
     "output_type": "stream",
     "text": [
      "Most months humidity is uncomfortable (>65) and temp as well (>90)\n"
     ]
    }
   ],
   "source": [
    "print('Heat or humidity?',)\n",
    "# Resample dew_point_faren and dry_bulb_faren by Month, aggregating the maximum values: monthly_max\n",
    "monthly_max = NOAA_2011[['dew_point_faren','dry_bulb_faren']].resample('M').max()\n",
    "\n",
    "# Generate a histogram with bins=8, alpha=0.5, subplots=True\n",
    "monthly_max.plot(kind='hist', bins=8, alpha=0.5, subplots=True)\n",
    "monthly_max.plot(subplots=True)\n",
    "\n",
    "# Show the plot\n",
    "plt.show()\n",
    "\n",
    "print('Most months humidity is uncomfortable (>65) and temp as well (>90)')"
   ]
  },
  {
   "cell_type": "code",
   "execution_count": 106,
   "metadata": {},
   "outputs": [
    {
     "name": "stdout",
     "output_type": "stream",
     "text": [
      "Probability of high temperatures\n",
      "Max temp in Aug normally: 95.3\n"
     ]
    },
    {
     "data": {
      "image/png": "[encoded data removed]",
      "text/plain": [
       "<Figure size 432x288 with 1 Axes>"
      ]
     },
     "metadata": {
      "needs_background": "light"
     },
     "output_type": "display_data"
    },
    {
     "name": "stdout",
     "output_type": "stream",
     "text": [
      "there was a 50% probability of the 2011 daily maximum temperature in August being 5 degrees above the 2010 climate normal value!\n"
     ]
    }
   ],
   "source": [
    "print('Probability of high temperatures')\n",
    "\n",
    "# Extract the maximum temperature in August 2010 from df_climate: august_max\n",
    "august_max = df_climate.Temperature['August, 2010'].max()\n",
    "print('Max temp in Aug normally:', august_max)\n",
    "\n",
    "# Resample August 2011 temps in df_clean by day & aggregate the max value: august_2011\n",
    "august_2011 = NOAA_2011.loc['2011-Aug','dry_bulb_faren'].resample('D').max()\n",
    "\n",
    "# Filter for days in august_2011 where the value exceeds august_max: august_2011_high\n",
    "august_2011_high = august_2011[august_2011 > august_max]\n",
    "\n",
    "# Construct a CDF of august_2011_high\n",
    "august_2011_high.plot(kind='hist',density=True,cumulative=True,bins=25)\n",
    "\n",
    "# Display the plot\n",
    "plt.show()\n",
    "print('there was a 50% probability of the 2011 daily maximum temperature in August being 5 degrees above the 2010 climate normal value!')"
   ]
  },
  {
   "cell_type": "code",
   "execution_count": null,
   "metadata": {},
   "outputs": [],
   "source": []
  }
 ],
 "metadata": {
  "kernelspec": {
   "display_name": "Python 3",
   "language": "python",
   "name": "python3"
  },
  "language_info": {
   "codemirror_mode": {
    "name": "ipython",
    "version": 3
   },
   "file_extension": ".py",
   "mimetype": "text/x-python",
   "name": "python",
   "nbconvert_exporter": "python",
   "pygments_lexer": "ipython3",
   "version": "3.7.3"
  },
  "toc-autonumbering": false,
  "toc-showmarkdowntxt": false,
  "toc-showtags": false
 },
 "nbformat": 4,
 "nbformat_minor": 4
}
